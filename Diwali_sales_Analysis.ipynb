{
  "nbformat": 4,
  "nbformat_minor": 0,
  "metadata": {
    "colab": {
      "private_outputs": true,
      "provenance": []
    },
    "kernelspec": {
      "name": "python3",
      "display_name": "Python 3"
    },
    "language_info": {
      "name": "python"
    }
  },
  "cells": [
    {
      "cell_type": "code",
      "execution_count": null,
      "metadata": {
        "id": "y3ffjJyYMlia"
      },
      "outputs": [],
      "source": [
        "import pandas as pd\n",
        "import numpy as np\n",
        "import matplotlib.pyplot as plt\n",
        "import seaborn as sns"
      ]
    },
    {
      "cell_type": "code",
      "source": [
        "df = pd.read_csv(\"/content/Diwali Sales Data.csv\", encoding='cp1252')"
      ],
      "metadata": {
        "id": "6Fqx2XKsM4LC"
      },
      "execution_count": null,
      "outputs": []
    },
    {
      "cell_type": "code",
      "source": [
        "df.head(5)"
      ],
      "metadata": {
        "id": "EToNfhELNK1_"
      },
      "execution_count": null,
      "outputs": []
    },
    {
      "cell_type": "code",
      "source": [
        "df.shape"
      ],
      "metadata": {
        "id": "qPk9MN2TNcJ-"
      },
      "execution_count": null,
      "outputs": []
    },
    {
      "cell_type": "code",
      "source": [
        "df.info()"
      ],
      "metadata": {
        "id": "4za3JCmxNeq-"
      },
      "execution_count": null,
      "outputs": []
    },
    {
      "cell_type": "code",
      "source": [
        "#Drop unreletrd/drop columan\n",
        "df.drop([ 'Status','unnamed1'],axis=1,inplace = True)"
      ],
      "metadata": {
        "id": "jTwoyhwdNri-"
      },
      "execution_count": null,
      "outputs": []
    },
    {
      "cell_type": "code",
      "source": [
        "#chack for null value\n",
        "df.isnull().sum()"
      ],
      "metadata": {
        "id": "rg5GWkG5OTFV"
      },
      "execution_count": null,
      "outputs": []
    },
    {
      "cell_type": "code",
      "source": [
        "#drop null value\n",
        "df.dropna(inplace=True)"
      ],
      "metadata": {
        "id": "W9NFPZnbOXCM"
      },
      "execution_count": null,
      "outputs": []
    },
    {
      "cell_type": "code",
      "source": [
        "#chack data type\n",
        "df['Amount'] = df['Amount'].astype(\"int\")"
      ],
      "metadata": {
        "id": "HrB2O_nbOsBd"
      },
      "execution_count": null,
      "outputs": []
    },
    {
      "cell_type": "code",
      "source": [
        "df[\"Amount\"].dtype"
      ],
      "metadata": {
        "id": "C3HryQM6PAHS"
      },
      "execution_count": null,
      "outputs": []
    },
    {
      "cell_type": "code",
      "source": [
        "df.columns"
      ],
      "metadata": {
        "id": "KYHiV_f7PGka"
      },
      "execution_count": null,
      "outputs": []
    },
    {
      "cell_type": "code",
      "source": [
        "#rename column\n",
        "df.rename(columns={'Marital_Status':'shadi'})"
      ],
      "metadata": {
        "id": "qtH6k5WBPLei"
      },
      "execution_count": null,
      "outputs": []
    },
    {
      "cell_type": "code",
      "source": [
        "#describe() mathod return description of the data in the datafram(i.e  count, mean, std, etc)\n",
        "df.describe()"
      ],
      "metadata": {
        "id": "OHxaqg4bPpAy"
      },
      "execution_count": null,
      "outputs": []
    },
    {
      "cell_type": "code",
      "source": [
        "#user describe () for spacipc colunm\n",
        "df[['Age','Orders','Amount']].describe()"
      ],
      "metadata": {
        "id": "YDKs-PLBQUvI"
      },
      "execution_count": null,
      "outputs": []
    },
    {
      "cell_type": "markdown",
      "source": [
        "#Exploratory Data Analysis"
      ],
      "metadata": {
        "id": "LseiiySWQ1jW"
      }
    },
    {
      "cell_type": "markdown",
      "source": [
        "#Gender"
      ],
      "metadata": {
        "id": "UXJmhUrGQ0uf"
      }
    },
    {
      "cell_type": "code",
      "source": [
        "#ploting a abr chart for Gender it's count\n",
        "ax = sns.countplot(x='Gender',data=df,)\n",
        "\n",
        "\n",
        "for bar in ax.containers:\n",
        "  ax.bar_label(bar)"
      ],
      "metadata": {
        "id": "qKqxfX2WQ-bc"
      },
      "execution_count": null,
      "outputs": []
    },
    {
      "cell_type": "code",
      "source": [
        "#ploting a bar chart Gender vs Total amount\n",
        "sales_gen =df.groupby(['Gender'],as_index=False)['Amount'].sum().sort_values(by='Amount', ascending=False)\n",
        "sns.barplot(x='Gender',y=\"Amount\",data=sales_gen)"
      ],
      "metadata": {
        "id": "wGejFrzLRfVK"
      },
      "execution_count": null,
      "outputs": []
    },
    {
      "cell_type": "markdown",
      "source": [
        "#Age"
      ],
      "metadata": {
        "id": "Jfp6bhlPTOgN"
      }
    },
    {
      "cell_type": "code",
      "source": [
        "ax = sns.countplot(data=df,x='Age Group',hue='Gender')\n",
        "\n",
        "for bar in ax.containers:\n",
        "  ax.bar_label(bar)"
      ],
      "metadata": {
        "id": "7hs4ZuWnTQiN"
      },
      "execution_count": null,
      "outputs": []
    },
    {
      "cell_type": "code",
      "source": [
        "#Total Amount vs Age Group\n",
        "sales_age =df.groupby([ 'Age Group'],as_index=False)['Amount'].sum().sort_values(by='Amount', ascending=False,ignore_index=True)\n",
        "sns.barplot(x='Age Group',y='Amount',data=sales_age)"
      ],
      "metadata": {
        "id": "vRtIawcJToJU"
      },
      "execution_count": null,
      "outputs": []
    },
    {
      "cell_type": "code",
      "source": [],
      "metadata": {
        "id": "oMfaXrVUU1MI"
      },
      "execution_count": null,
      "outputs": []
    },
    {
      "cell_type": "markdown",
      "source": [
        "#state"
      ],
      "metadata": {
        "id": "l2QupylkVa4B"
      }
    },
    {
      "cell_type": "code",
      "source": [
        "#total number of orders from top 10 state\n",
        "sales_state =df.groupby(['State'],as_index=False)['Orders'].sum().sort_values(by='Orders',ascending=False).head(10)\n",
        "sns.set(rc={'figure.figsize':(15,5)})\n",
        "sns.barplot(data=sales_state,x='State',y='Orders')"
      ],
      "metadata": {
        "id": "XK2YgU02Vdwf"
      },
      "execution_count": null,
      "outputs": []
    },
    {
      "cell_type": "code",
      "source": [
        "#Total Amount/sales for top 10 states\n",
        "sales_state = df.groupby(['State'],as_index=False)['Amount'].sum().sort_values(by='Amount',ascending=False).head(10)\n",
        "sns.set(rc={'figure.figsize':(15,5)})\n",
        "sns.barplot(data=sales_state,x='State',y='Amount')"
      ],
      "metadata": {
        "id": "gCxIojP-XHF6"
      },
      "execution_count": null,
      "outputs": []
    },
    {
      "cell_type": "markdown",
      "source": [
        "#Marital Stetus"
      ],
      "metadata": {
        "id": "0hv6f4elyJgG"
      }
    },
    {
      "cell_type": "code",
      "source": [
        "ax = sns.countplot(data=df,x='Marital_Status',hue='Gender')\n",
        "sns.set(rc={'figure.figsize':(5,4)})\n",
        "\n",
        "for bar in ax.containers:\n",
        "  ax.bar_label(bar)"
      ],
      "metadata": {
        "id": "BDmVLNvgyMGt"
      },
      "execution_count": null,
      "outputs": []
    },
    {
      "cell_type": "code",
      "source": [
        "sales_state = df.groupby(['Marital_Status', 'Gender'],as_index=False)['Amount'].sum().sort_values(by='Amount',ascending=False)\n",
        "sns.set(rc={'figure.figsize':(5,4)})\n",
        "\n",
        "sns.barplot(data=sales_state,x='Marital_Status',y='Amount',hue='Gender')"
      ],
      "metadata": {
        "id": "V88d6yAlzAU8"
      },
      "execution_count": null,
      "outputs": []
    },
    {
      "cell_type": "markdown",
      "source": [
        "#Occupation"
      ],
      "metadata": {
        "id": "o_4HtTNP23J4"
      }
    },
    {
      "cell_type": "code",
      "source": [
        "sns.set(rc={'figure.figsize':(20,5)})\n",
        "ax=sns.countplot(data = df,x = 'Occupation')\n",
        "\n",
        "for bar in ax.containers:\n",
        "  ax.bar_label(bar)"
      ],
      "metadata": {
        "id": "aVNf7NbU1TTE"
      },
      "execution_count": null,
      "outputs": []
    },
    {
      "cell_type": "code",
      "source": [
        "sales_state = df.groupby(['Occupation'],as_index=False)['Amount'].sum().sort_values(by='Amount',ascending=False)\n",
        "sns.barplot(data=sales_state,x='Occupation',y = 'Amount')\n",
        "sns.set(rc={'figure.figsize':(20,5)})"
      ],
      "metadata": {
        "id": "G-AKBhBU3aGe"
      },
      "execution_count": null,
      "outputs": []
    },
    {
      "cell_type": "markdown",
      "source": [
        "#Products Category"
      ],
      "metadata": {
        "id": "_U0Mrvtf43iC"
      }
    },
    {
      "cell_type": "code",
      "source": [
        "sns.set(rc={'figure.figsize':(20,5)})\n",
        "ax = sns.countplot(data=df,x='Product_Category')\n",
        "\n",
        "for bar in ax.containers:\n",
        "  ax.bar_label(bar)"
      ],
      "metadata": {
        "id": "nYTDXDYi4zSL"
      },
      "execution_count": null,
      "outputs": []
    },
    {
      "cell_type": "code",
      "source": [
        "sales_state =df.groupby(['Product_Category'],as_index=False)['Amount'].sum().sort_values(by='Amount',ascending=False).head(10)\n",
        "sns.barplot(data=sales_state,x='Product_Category',y = 'Amount')\n",
        "sns.set(rc={'figure.figsize':(20,5)})"
      ],
      "metadata": {
        "id": "lJ9a3buL5aZZ"
      },
      "execution_count": null,
      "outputs": []
    },
    {
      "cell_type": "code",
      "source": [
        "sales_state =df.groupby(['Product_ID'],as_index=False)['Orders'].sum().sort_values(by='Orders',ascending=False).head(10)\n",
        "sns.set(rc={'figure.figsize':(20,5)})\n",
        "sns.barplot(data=sales_state,x='Product_ID',y='Orders')"
      ],
      "metadata": {
        "id": "4wMYCei_6eTl"
      },
      "execution_count": null,
      "outputs": []
    },
    {
      "cell_type": "code",
      "source": [
        "#Top 10 most sale product(something as above)\n",
        "\n",
        "fig1,ax1 = plt.subplots(figsize=(12,7))\n",
        "df.groupby('Product_ID')['Orders'].sum().nlargest(10).sort_values(ascending=False).plot(kind='bar')"
      ],
      "metadata": {
        "id": "3ZodaY-e7b8y"
      },
      "execution_count": null,
      "outputs": []
    },
    {
      "cell_type": "code",
      "source": [],
      "metadata": {
        "id": "B3IzwXpZ8U1A"
      },
      "execution_count": null,
      "outputs": []
    }
  ]
}